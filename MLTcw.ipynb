{
 "cells": [
  {
   "cell_type": "code",
   "execution_count": 1,
   "id": "a8537e94-dfab-4217-ac44-39cd9a572024",
   "metadata": {},
   "outputs": [
    {
     "name": "stdout",
     "output_type": "stream",
     "text": [
      "Requirement already satisfied: pandas in /Users/calumanderson/miniconda3/envs/MLTcw/lib/python3.9/site-packages (2.1.4)\n",
      "Requirement already satisfied: numpy<2,>=1.22.4 in /Users/calumanderson/miniconda3/envs/MLTcw/lib/python3.9/site-packages (from pandas) (1.26.2)\n",
      "Requirement already satisfied: python-dateutil>=2.8.2 in /Users/calumanderson/miniconda3/envs/MLTcw/lib/python3.9/site-packages (from pandas) (2.8.2)\n",
      "Requirement already satisfied: pytz>=2020.1 in /Users/calumanderson/miniconda3/envs/MLTcw/lib/python3.9/site-packages (from pandas) (2023.3.post1)\n",
      "Requirement already satisfied: tzdata>=2022.1 in /Users/calumanderson/miniconda3/envs/MLTcw/lib/python3.9/site-packages (from pandas) (2023.3)\n",
      "Requirement already satisfied: six>=1.5 in /Users/calumanderson/miniconda3/envs/MLTcw/lib/python3.9/site-packages (from python-dateutil>=2.8.2->pandas) (1.16.0)\n"
     ]
    }
   ],
   "source": [
    "!pip install pandas "
   ]
  },
  {
   "cell_type": "code",
   "execution_count": 2,
   "id": "7fd21dc7-901a-406b-a73e-4c241fea4c68",
   "metadata": {},
   "outputs": [],
   "source": [
    "from pathlib import Path\n",
    "import pandas as pd\n",
    "import string "
   ]
  },
  {
   "cell_type": "code",
   "execution_count": 3,
   "id": "36a5b6df-9b79-414e-b761-ddfaea381fa2",
   "metadata": {},
   "outputs": [],
   "source": [
    "def getData():\n",
    "    path = Path(\"mediaeval-2015-trainingset.txt\") \n",
    "    #type = {\"tweetId\":pd.int64, \"tweetText\":pd.StringDtype, \"userId\":pd.int64, \"imageId\":pd.StringDtype, \"username\":pd.StringDtype, \"timestamp\":pd.Timestamp, \"label\":pd.StringDtype}\n",
    "    return pd.read_csv(path, sep=\"\\t\") \n",
    "    "
   ]
  },
  {
   "cell_type": "code",
   "execution_count": 4,
   "id": "d9aba6eb-a3de-437c-9c4b-8232037d022b",
   "metadata": {},
   "outputs": [
    {
     "name": "stdout",
     "output_type": "stream",
     "text": [
      "<class 'pandas.core.frame.DataFrame'>\n",
      "RangeIndex: 14277 entries, 0 to 14276\n",
      "Data columns (total 7 columns):\n",
      " #   Column      Non-Null Count  Dtype \n",
      "---  ------      --------------  ----- \n",
      " 0   tweetId     14277 non-null  int64 \n",
      " 1   tweetText   14277 non-null  object\n",
      " 2   userId      14277 non-null  int64 \n",
      " 3   imageId(s)  14277 non-null  object\n",
      " 4   username    14277 non-null  object\n",
      " 5   timestamp   14277 non-null  object\n",
      " 6   label       14277 non-null  object\n",
      "dtypes: int64(2), object(5)\n",
      "memory usage: 780.9+ KB\n"
     ]
    }
   ],
   "source": [
    "tweets = getData()\n",
    "tweets.info()"
   ]
  },
  {
   "cell_type": "code",
   "execution_count": 5,
   "id": "350acd9b-8831-475e-b313-6af8b3bebe33",
   "metadata": {},
   "outputs": [
    {
     "data": {
      "text/plain": [
       "tweetId                                      262995061304852481\n",
       "tweetText     @milenagimon: Miren a Sandy en NY!  Tremenda i...\n",
       "userId                                                192378571\n",
       "imageId(s)                                       sandyA_fake_09\n",
       "username                                         CarlosVerareal\n",
       "timestamp                        Mon Oct 29 19:11:23 +0000 2012\n",
       "label                                                      fake\n",
       "Name: 1, dtype: object"
      ]
     },
     "metadata": {},
     "output_type": "display_data"
    }
   ],
   "source": [
    "display(tweets.iloc[1])"
   ]
  },
  {
   "cell_type": "code",
   "execution_count": 6,
   "id": "4fbc4240-2da6-4656-aced-744611217cf9",
   "metadata": {},
   "outputs": [
    {
     "data": {
      "text/html": [
       "<div>\n",
       "<style scoped>\n",
       "    .dataframe tbody tr th:only-of-type {\n",
       "        vertical-align: middle;\n",
       "    }\n",
       "\n",
       "    .dataframe tbody tr th {\n",
       "        vertical-align: top;\n",
       "    }\n",
       "\n",
       "    .dataframe thead th {\n",
       "        text-align: right;\n",
       "    }\n",
       "</style>\n",
       "<table border=\"1\" class=\"dataframe\">\n",
       "  <thead>\n",
       "    <tr style=\"text-align: right;\">\n",
       "      <th></th>\n",
       "      <th>tweetId</th>\n",
       "      <th>tweetText</th>\n",
       "      <th>userId</th>\n",
       "      <th>imageId(s)</th>\n",
       "      <th>username</th>\n",
       "      <th>timestamp</th>\n",
       "      <th>label</th>\n",
       "    </tr>\n",
       "  </thead>\n",
       "  <tbody>\n",
       "    <tr>\n",
       "      <th>96</th>\n",
       "      <td>263067081593982976</td>\n",
       "      <td>😳🏃💨💨💨🌊sharks in jersey!! #hurricane #sandy htt...</td>\n",
       "      <td>86768069</td>\n",
       "      <td>sandyA_fake_11</td>\n",
       "      <td>tonymonge1990</td>\n",
       "      <td>Mon Oct 29 23:57:34 +0000 2012</td>\n",
       "      <td>fake</td>\n",
       "    </tr>\n",
       "  </tbody>\n",
       "</table>\n",
       "</div>"
      ],
      "text/plain": [
       "               tweetId                                          tweetText  \\\n",
       "96  263067081593982976  😳🏃💨💨💨🌊sharks in jersey!! #hurricane #sandy htt...   \n",
       "\n",
       "      userId      imageId(s)       username                       timestamp  \\\n",
       "96  86768069  sandyA_fake_11  tonymonge1990  Mon Oct 29 23:57:34 +0000 2012   \n",
       "\n",
       "   label  \n",
       "96  fake  "
      ]
     },
     "metadata": {},
     "output_type": "display_data"
    }
   ],
   "source": [
    "display(tweets[tweets['tweetId'] == 263067081593982976])"
   ]
  },
  {
   "cell_type": "code",
   "execution_count": 7,
   "id": "724ab99b-b17e-4d21-a896-c68932a857eb",
   "metadata": {},
   "outputs": [],
   "source": [
    "def cleanData(text2):  \n",
    "    text = text2.lower()\n",
    "    alphabet = string.ascii_lowercase + ' ' + \"'\" + \".\" + string.digits\n",
    "    \n",
    "    \n",
    "    \n",
    "    text = \" \".join(text.split('-'))\n",
    "    \n",
    "    \n",
    "    length = len(text)\n",
    "    prev = \"null\"\n",
    "    for i in range(length):\n",
    "        current = text[i]\n",
    "        try:\n",
    "            next = current[i+1]\n",
    "        except:\n",
    "            next = \"null\"\n",
    "        if (prev not in string.digits) and (current == '.') and (next not in string.digits):\n",
    "            text = text[0:i] + \"!\" + text[i+1:]\n",
    "    \n",
    "    text = ''.join([x for x in text if x in alphabet])\n",
    "    return text"
   ]
  },
  {
   "cell_type": "code",
   "execution_count": 8,
   "id": "a81dfb28-15a6-419d-a7a2-29599b378d04",
   "metadata": {},
   "outputs": [],
   "source": [
    "tweets[\"tweetText\"] = tweets[\"tweetText\"].astype(\"string\")\n",
    "tweets[\"tweetText\"] = tweets[\"tweetText\"].apply(cleanData)"
   ]
  },
  {
   "cell_type": "code",
   "execution_count": 9,
   "id": "5bdb30e9-167b-466e-9497-b97b9bec6a94",
   "metadata": {},
   "outputs": [
    {
     "data": {
      "text/html": [
       "<div>\n",
       "<style scoped>\n",
       "    .dataframe tbody tr th:only-of-type {\n",
       "        vertical-align: middle;\n",
       "    }\n",
       "\n",
       "    .dataframe tbody tr th {\n",
       "        vertical-align: top;\n",
       "    }\n",
       "\n",
       "    .dataframe thead th {\n",
       "        text-align: right;\n",
       "    }\n",
       "</style>\n",
       "<table border=\"1\" class=\"dataframe\">\n",
       "  <thead>\n",
       "    <tr style=\"text-align: right;\">\n",
       "      <th></th>\n",
       "      <th>tweetId</th>\n",
       "      <th>tweetText</th>\n",
       "      <th>userId</th>\n",
       "      <th>imageId(s)</th>\n",
       "      <th>username</th>\n",
       "      <th>timestamp</th>\n",
       "      <th>label</th>\n",
       "    </tr>\n",
       "  </thead>\n",
       "  <tbody>\n",
       "    <tr>\n",
       "      <th>0</th>\n",
       "      <td>263046056240115712</td>\n",
       "      <td>se acuerdan de la pelcula el da despus de maan...</td>\n",
       "      <td>21226711</td>\n",
       "      <td>sandyA_fake_46</td>\n",
       "      <td>iAnnieM</td>\n",
       "      <td>Mon Oct 29 22:34:01 +0000 2012</td>\n",
       "      <td>fake</td>\n",
       "    </tr>\n",
       "    <tr>\n",
       "      <th>1</th>\n",
       "      <td>262995061304852481</td>\n",
       "      <td>milenagimon miren a sandy en ny  tremenda imag...</td>\n",
       "      <td>192378571</td>\n",
       "      <td>sandyA_fake_09</td>\n",
       "      <td>CarlosVerareal</td>\n",
       "      <td>Mon Oct 29 19:11:23 +0000 2012</td>\n",
       "      <td>fake</td>\n",
       "    </tr>\n",
       "    <tr>\n",
       "      <th>2</th>\n",
       "      <td>262979898002534400</td>\n",
       "      <td>buena la foto del huracn sandy me recuerda a l...</td>\n",
       "      <td>132303095</td>\n",
       "      <td>sandyA_fake_09</td>\n",
       "      <td>LucasPalape</td>\n",
       "      <td>Mon Oct 29 18:11:08 +0000 2012</td>\n",
       "      <td>fake</td>\n",
       "    </tr>\n",
       "    <tr>\n",
       "      <th>3</th>\n",
       "      <td>262996108400271360</td>\n",
       "      <td>scary shit hurricane ny httptcoe4jlbufh</td>\n",
       "      <td>241995902</td>\n",
       "      <td>sandyA_fake_29</td>\n",
       "      <td>Haaaaarryyy</td>\n",
       "      <td>Mon Oct 29 19:15:33 +0000 2012</td>\n",
       "      <td>fake</td>\n",
       "    </tr>\n",
       "    <tr>\n",
       "      <th>4</th>\n",
       "      <td>263018881839411200</td>\n",
       "      <td>my fave place in the world nyc hurricane sandy...</td>\n",
       "      <td>250315890</td>\n",
       "      <td>sandyA_fake_15</td>\n",
       "      <td>princess__natt</td>\n",
       "      <td>Mon Oct 29 20:46:02 +0000 2012</td>\n",
       "      <td>fake</td>\n",
       "    </tr>\n",
       "    <tr>\n",
       "      <th>...</th>\n",
       "      <td>...</td>\n",
       "      <td>...</td>\n",
       "      <td>...</td>\n",
       "      <td>...</td>\n",
       "      <td>...</td>\n",
       "      <td>...</td>\n",
       "      <td>...</td>\n",
       "    </tr>\n",
       "    <tr>\n",
       "      <th>14272</th>\n",
       "      <td>443231991593304064</td>\n",
       "      <td>bobombdom slaps tweetdeck with the pigfish htt...</td>\n",
       "      <td>2179310905</td>\n",
       "      <td>pigFish_01</td>\n",
       "      <td>Da_Vault_Hunter</td>\n",
       "      <td>Tue Mar 11 03: 48: 36 +0000 2014</td>\n",
       "      <td>fake</td>\n",
       "    </tr>\n",
       "    <tr>\n",
       "      <th>14273</th>\n",
       "      <td>443086239127076865</td>\n",
       "      <td>new species of fish found in brazil or just re...</td>\n",
       "      <td>254843101</td>\n",
       "      <td>pigFish_01</td>\n",
       "      <td>DjSituation_RC</td>\n",
       "      <td>Mon Mar 10 18: 09: 26 +0000 2014</td>\n",
       "      <td>fake</td>\n",
       "    </tr>\n",
       "    <tr>\n",
       "      <th>14274</th>\n",
       "      <td>442978105238753280</td>\n",
       "      <td>what do we call this pigfish http tco4bml62od15</td>\n",
       "      <td>2367553228</td>\n",
       "      <td>pigFish_01</td>\n",
       "      <td>Vivo1Vuyo</td>\n",
       "      <td>Mon Mar 10 10: 59: 45 +0000 2014</td>\n",
       "      <td>fake</td>\n",
       "    </tr>\n",
       "    <tr>\n",
       "      <th>14275</th>\n",
       "      <td>442753479782989824</td>\n",
       "      <td>pigfish  e dopo il pescecane c' il pesce maial...</td>\n",
       "      <td>603120231</td>\n",
       "      <td>pigFish_01</td>\n",
       "      <td>CosimoTarta</td>\n",
       "      <td>Sun Mar 09 20: 07: 10 +0000 2014</td>\n",
       "      <td>fake</td>\n",
       "    </tr>\n",
       "    <tr>\n",
       "      <th>14276</th>\n",
       "      <td>442700377860104192</td>\n",
       "      <td>for those who can't decide between fish or mea...</td>\n",
       "      <td>25086784</td>\n",
       "      <td>pigFish_01</td>\n",
       "      <td>johnszim</td>\n",
       "      <td>Sun Mar 09 16: 36: 09 +0000 2014</td>\n",
       "      <td>fake</td>\n",
       "    </tr>\n",
       "  </tbody>\n",
       "</table>\n",
       "<p>14277 rows × 7 columns</p>\n",
       "</div>"
      ],
      "text/plain": [
       "                  tweetId                                          tweetText  \\\n",
       "0      263046056240115712  se acuerdan de la pelcula el da despus de maan...   \n",
       "1      262995061304852481  milenagimon miren a sandy en ny  tremenda imag...   \n",
       "2      262979898002534400  buena la foto del huracn sandy me recuerda a l...   \n",
       "3      262996108400271360            scary shit hurricane ny httptcoe4jlbufh   \n",
       "4      263018881839411200  my fave place in the world nyc hurricane sandy...   \n",
       "...                   ...                                                ...   \n",
       "14272  443231991593304064  bobombdom slaps tweetdeck with the pigfish htt...   \n",
       "14273  443086239127076865  new species of fish found in brazil or just re...   \n",
       "14274  442978105238753280    what do we call this pigfish http tco4bml62od15   \n",
       "14275  442753479782989824  pigfish  e dopo il pescecane c' il pesce maial...   \n",
       "14276  442700377860104192  for those who can't decide between fish or mea...   \n",
       "\n",
       "           userId      imageId(s)         username  \\\n",
       "0        21226711  sandyA_fake_46          iAnnieM   \n",
       "1       192378571  sandyA_fake_09   CarlosVerareal   \n",
       "2       132303095  sandyA_fake_09      LucasPalape   \n",
       "3       241995902  sandyA_fake_29      Haaaaarryyy   \n",
       "4       250315890  sandyA_fake_15   princess__natt   \n",
       "...           ...             ...              ...   \n",
       "14272  2179310905      pigFish_01  Da_Vault_Hunter   \n",
       "14273   254843101      pigFish_01   DjSituation_RC   \n",
       "14274  2367553228      pigFish_01        Vivo1Vuyo   \n",
       "14275   603120231      pigFish_01      CosimoTarta   \n",
       "14276    25086784      pigFish_01         johnszim   \n",
       "\n",
       "                              timestamp label  \n",
       "0        Mon Oct 29 22:34:01 +0000 2012  fake  \n",
       "1        Mon Oct 29 19:11:23 +0000 2012  fake  \n",
       "2        Mon Oct 29 18:11:08 +0000 2012  fake  \n",
       "3        Mon Oct 29 19:15:33 +0000 2012  fake  \n",
       "4        Mon Oct 29 20:46:02 +0000 2012  fake  \n",
       "...                                 ...   ...  \n",
       "14272  Tue Mar 11 03: 48: 36 +0000 2014  fake  \n",
       "14273  Mon Mar 10 18: 09: 26 +0000 2014  fake  \n",
       "14274  Mon Mar 10 10: 59: 45 +0000 2014  fake  \n",
       "14275  Sun Mar 09 20: 07: 10 +0000 2014  fake  \n",
       "14276  Sun Mar 09 16: 36: 09 +0000 2014  fake  \n",
       "\n",
       "[14277 rows x 7 columns]"
      ]
     },
     "metadata": {},
     "output_type": "display_data"
    }
   ],
   "source": [
    "display(tweets)"
   ]
  },
  {
   "cell_type": "code",
   "execution_count": 10,
   "id": "6dda17dd-68f7-4373-8b7f-a435a104defb",
   "metadata": {},
   "outputs": [
    {
     "data": {
      "text/html": [
       "<div>\n",
       "<style scoped>\n",
       "    .dataframe tbody tr th:only-of-type {\n",
       "        vertical-align: middle;\n",
       "    }\n",
       "\n",
       "    .dataframe tbody tr th {\n",
       "        vertical-align: top;\n",
       "    }\n",
       "\n",
       "    .dataframe thead th {\n",
       "        text-align: right;\n",
       "    }\n",
       "</style>\n",
       "<table border=\"1\" class=\"dataframe\">\n",
       "  <thead>\n",
       "    <tr style=\"text-align: right;\">\n",
       "      <th></th>\n",
       "      <th>tweetId</th>\n",
       "      <th>tweetText</th>\n",
       "      <th>userId</th>\n",
       "      <th>imageId(s)</th>\n",
       "      <th>username</th>\n",
       "      <th>timestamp</th>\n",
       "      <th>label</th>\n",
       "    </tr>\n",
       "  </thead>\n",
       "  <tbody>\n",
       "    <tr>\n",
       "      <th>96</th>\n",
       "      <td>263067081593982976</td>\n",
       "      <td>sharks in jersey hurricane sandy httptco4vqxylst</td>\n",
       "      <td>86768069</td>\n",
       "      <td>sandyA_fake_11</td>\n",
       "      <td>tonymonge1990</td>\n",
       "      <td>Mon Oct 29 23:57:34 +0000 2012</td>\n",
       "      <td>fake</td>\n",
       "    </tr>\n",
       "  </tbody>\n",
       "</table>\n",
       "</div>"
      ],
      "text/plain": [
       "               tweetId                                         tweetText  \\\n",
       "96  263067081593982976  sharks in jersey hurricane sandy httptco4vqxylst   \n",
       "\n",
       "      userId      imageId(s)       username                       timestamp  \\\n",
       "96  86768069  sandyA_fake_11  tonymonge1990  Mon Oct 29 23:57:34 +0000 2012   \n",
       "\n",
       "   label  \n",
       "96  fake  "
      ]
     },
     "metadata": {},
     "output_type": "display_data"
    }
   ],
   "source": [
    "display(tweets[tweets['tweetId'] == 263067081593982976])"
   ]
  },
  {
   "cell_type": "code",
   "execution_count": 12,
   "id": "198cf322-674e-491f-a9ef-1832cb6b44e5",
   "metadata": {},
   "outputs": [
    {
     "data": {
      "text/html": [
       "<div>\n",
       "<style scoped>\n",
       "    .dataframe tbody tr th:only-of-type {\n",
       "        vertical-align: middle;\n",
       "    }\n",
       "\n",
       "    .dataframe tbody tr th {\n",
       "        vertical-align: top;\n",
       "    }\n",
       "\n",
       "    .dataframe thead th {\n",
       "        text-align: right;\n",
       "    }\n",
       "</style>\n",
       "<table border=\"1\" class=\"dataframe\">\n",
       "  <thead>\n",
       "    <tr style=\"text-align: right;\">\n",
       "      <th></th>\n",
       "      <th>tweetId</th>\n",
       "      <th>tweetText</th>\n",
       "      <th>userId</th>\n",
       "      <th>imageId(s)</th>\n",
       "      <th>username</th>\n",
       "      <th>timestamp</th>\n",
       "      <th>label</th>\n",
       "    </tr>\n",
       "  </thead>\n",
       "  <tbody>\n",
       "    <tr>\n",
       "      <th>6381</th>\n",
       "      <td>262974742716370944</td>\n",
       "      <td>man sandy foreal   httptcovewvxy10</td>\n",
       "      <td>183424929</td>\n",
       "      <td>sandyA_fake_29</td>\n",
       "      <td>vtintit</td>\n",
       "      <td>Mon Oct 29 17:50:39 +0000 2012</td>\n",
       "      <td>fake</td>\n",
       "    </tr>\n",
       "  </tbody>\n",
       "</table>\n",
       "</div>"
      ],
      "text/plain": [
       "                 tweetId                           tweetText     userId  \\\n",
       "6381  262974742716370944  man sandy foreal   httptcovewvxy10  183424929   \n",
       "\n",
       "          imageId(s) username                       timestamp label  \n",
       "6381  sandyA_fake_29  vtintit  Mon Oct 29 17:50:39 +0000 2012  fake  "
      ]
     },
     "metadata": {},
     "output_type": "display_data"
    }
   ],
   "source": [
    "display(tweets[tweets['tweetId'] == 262974742716370944])"
   ]
  },
  {
   "cell_type": "code",
   "execution_count": 15,
   "id": "888c050b-2600-42b2-a09a-9972db7e7de9",
   "metadata": {},
   "outputs": [
    {
     "data": {
      "text/plain": [
       "imageId(s)\n",
       "sandyA_fake_29    1100\n",
       "sandyA_fake_42     712\n",
       "sandyB_real_59     632\n",
       "sandyA_fake_11     611\n",
       "sandyB_real_71     561\n",
       "                  ... \n",
       "sandyA_real_46       1\n",
       "sandyB_real_65       1\n",
       "sandyB_real_39       1\n",
       "boston_fake_25       1\n",
       "sandyB_real_96       1\n",
       "Name: count, Length: 377, dtype: int64"
      ]
     },
     "execution_count": 15,
     "metadata": {},
     "output_type": "execute_result"
    }
   ],
   "source": [
    "tweets['imageId(s)'].value_counts()"
   ]
  },
  {
   "cell_type": "code",
   "execution_count": null,
   "id": "a0a80496-77a5-4c2a-8557-6921fc0b92bd",
   "metadata": {},
   "outputs": [],
   "source": []
  }
 ],
 "metadata": {
  "kernelspec": {
   "display_name": "Python 3 (ipykernel)",
   "language": "python",
   "name": "python3"
  },
  "language_info": {
   "codemirror_mode": {
    "name": "ipython",
    "version": 3
   },
   "file_extension": ".py",
   "mimetype": "text/x-python",
   "name": "python",
   "nbconvert_exporter": "python",
   "pygments_lexer": "ipython3",
   "version": "3.9.18"
  }
 },
 "nbformat": 4,
 "nbformat_minor": 5
}
